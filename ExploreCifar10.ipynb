{
 "cells": [
  {
   "cell_type": "code",
   "execution_count": 5,
   "id": "bc1accd5-71f3-47a3-9f53-0def9906788d",
   "metadata": {},
   "outputs": [
    {
     "name": "stdout",
     "output_type": "stream",
     "text": [
      "Files already downloaded and verified\n",
      "Files already downloaded and verified\n"
     ]
    }
   ],
   "source": [
    "import logging\n",
    "\n",
    "import torch\n",
    "\n",
    "from torchvision import transforms, datasets\n",
    "from torch.utils.data import DataLoader, RandomSampler, DistributedSampler, SequentialSampler\n",
    "\n",
    "\n",
    "img_size = 224\n",
    "transform_train = transforms.Compose([\n",
    "    transforms.RandomResizedCrop((img_size, img_size), scale=(0.05, 1.0)),\n",
    "    transforms.ToTensor(),\n",
    "    transforms.Normalize(mean=[0.5, 0.5, 0.5], std=[0.5, 0.5, 0.5]),\n",
    "])\n",
    "transform_test = transforms.Compose([\n",
    "    transforms.Resize((img_size, img_size)),\n",
    "    transforms.ToTensor(),\n",
    "    transforms.Normalize(mean=[0.5, 0.5, 0.5], std=[0.5, 0.5, 0.5]),\n",
    "])\n",
    "\n",
    "trainset = datasets.CIFAR10(root=\"./data\",\n",
    "                            train=True,\n",
    "                            download=True,\n",
    "                            transform=transform_train)\n",
    "testset = datasets.CIFAR10(root=\"./data\",\n",
    "                           train=False,\n",
    "                           download=True,\n",
    "                           transform=transform_test)\n",
    "\n"
   ]
  },
  {
   "cell_type": "code",
   "execution_count": 6,
   "id": "c7cf5943-d49a-4683-8c6f-8159dda15888",
   "metadata": {},
   "outputs": [],
   "source": [
    "local_rank  = -1\n",
    "train_batch_size = 16\n",
    "eval_batch_size = 16\n",
    "train_sampler = RandomSampler(trainset) if local_rank == -1 else DistributedSampler(trainset)\n",
    "test_sampler = SequentialSampler(testset)\n",
    "train_loader = DataLoader(trainset,\n",
    "                          sampler=train_sampler,\n",
    "                          batch_size=train_batch_size,\n",
    "                          num_workers=4,\n",
    "                          pin_memory=True)\n",
    "test_loader = DataLoader(testset,\n",
    "                         sampler=test_sampler,\n",
    "                         batch_size=eval_batch_size,\n",
    "                         num_workers=4,\n",
    "                         pin_memory=True) if testset is not None else None"
   ]
  },
  {
   "cell_type": "code",
   "execution_count": 7,
   "id": "24ed8c70-f1ca-4a24-836a-239210d73f1c",
   "metadata": {},
   "outputs": [],
   "source": [
    "train_examples, train_labels = next(iter(train_loader))"
   ]
  },
  {
   "cell_type": "code",
   "execution_count": 8,
   "id": "d841fe5c-4109-4209-95bd-5d36d025b042",
   "metadata": {},
   "outputs": [
    {
     "data": {
      "text/plain": [
       "torch.Size([16, 3, 224, 224])"
      ]
     },
     "execution_count": 8,
     "metadata": {},
     "output_type": "execute_result"
    }
   ],
   "source": [
    "train_examples.shape"
   ]
  },
  {
   "cell_type": "code",
   "execution_count": 9,
   "id": "78244eea-3973-4adb-9e84-8eb92e464922",
   "metadata": {},
   "outputs": [
    {
     "data": {
      "text/plain": [
       "torch.Size([16])"
      ]
     },
     "execution_count": 9,
     "metadata": {},
     "output_type": "execute_result"
    }
   ],
   "source": [
    "train_labels.shape"
   ]
  },
  {
   "cell_type": "code",
   "execution_count": 10,
   "id": "8d2b357c-5aac-41a4-86b3-072f4589304e",
   "metadata": {},
   "outputs": [
    {
     "data": {
      "text/plain": [
       "tensor([0, 6, 9, 5, 7, 2, 2, 2, 3, 8, 8, 3, 6, 7, 9, 1])"
      ]
     },
     "execution_count": 10,
     "metadata": {},
     "output_type": "execute_result"
    }
   ],
   "source": [
    "train_labels"
   ]
  },
  {
   "cell_type": "code",
   "execution_count": null,
   "id": "7dcbdb10-9097-414a-9dd2-9938a60c5a23",
   "metadata": {},
   "outputs": [],
   "source": []
  }
 ],
 "metadata": {
  "kernelspec": {
   "display_name": "default:Python",
   "language": "python",
   "name": "conda-env-default-py"
  },
  "language_info": {
   "codemirror_mode": {
    "name": "ipython",
    "version": 3
   },
   "file_extension": ".py",
   "mimetype": "text/x-python",
   "name": "python",
   "nbconvert_exporter": "python",
   "pygments_lexer": "ipython3",
   "version": "3.9.7"
  }
 },
 "nbformat": 4,
 "nbformat_minor": 5
}
